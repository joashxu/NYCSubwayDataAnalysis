{
 "cells": [
  {
   "cell_type": "markdown",
   "metadata": {},
   "source": [
    "#Analyzing NYC subway data\n",
    "\n",
    "This project look at the NYC Subway data and figure out if more people ride the subway when it is raining versus when it is not raining.\n",
    "\n",
    "The data can be found at:\n",
    "\n",
    "* Original data set at: https://www.dropbox.com/s/meyki2wl9xfa7yk/turnstile_data_master_with_weather.csv\n",
    "* Improved data set at: https://www.dropbox.com/s/1lpoeh2w6px4diu/improved-dataset.zip?dl=0\n",
    "\n",
    "Now that we have the data to work with we can start analyzing the data."
   ]
  },
  {
   "cell_type": "markdown",
   "metadata": {},
   "source": [
    "## Statistical Analysis"
   ]
  },
  {
   "cell_type": "code",
   "execution_count": 1,
   "metadata": {
    "collapsed": true
   },
   "outputs": [],
   "source": [
    "%matplotlib inline\n",
    "\n",
    "import numpy as np\n",
    "import pandas\n",
    "import matplotlib.pyplot as plt"
   ]
  },
  {
   "cell_type": "code",
   "execution_count": 3,
   "metadata": {
    "collapsed": false
   },
   "outputs": [],
   "source": [
    "df = pandas.read_csv('turnstile_data_master_with_weather.csv')"
   ]
  },
  {
   "cell_type": "markdown",
   "metadata": {},
   "source": [
    "Before we perform any analysis, it might be useful to take a\n",
    "look at the data we're hoping to analyze. More specifically, let's \n",
    "examine the hourly entries in our NYC subway data and determine what\n",
    "distribution the data follows."
   ]
  },
  {
   "cell_type": "code",
   "execution_count": 4,
   "metadata": {
    "collapsed": true
   },
   "outputs": [],
   "source": [
    "with_rain_df = df['ENTRIESn_hourly'][df['rain'] == 0]\n",
    "without_rain_df = df['ENTRIESn_hourly'][df['rain'] == 1]"
   ]
  },
  {
   "cell_type": "code",
   "execution_count": 5,
   "metadata": {
    "collapsed": false
   },
   "outputs": [
    {
     "data": {
      "image/png": "[encoded data removed]",
      "text/plain": [
       "<matplotlib.figure.Figure at 0x110fd3310>"
      ]
     },
     "metadata": {},
     "output_type": "display_data"
    }
   ],
   "source": [
    "figure = plt.figure()\n",
    "figure.suptitle('Histogram of ENTRIESn_hourly')\n",
    "\n",
    "with_rain_plot = with_rain_df.hist()\n",
    "without_rain_plot = without_rain_df.hist(alpha=0.8)"
   ]
  },
  {
   "cell_type": "markdown",
   "metadata": {},
   "source": [
    "Next we look at some descriptive statistice regarding these two samples."
   ]
  },
  {
   "cell_type": "code",
   "execution_count": 6,
   "metadata": {
    "collapsed": false
   },
   "outputs": [
    {
     "data": {
      "text/plain": [
       "count    87847.000000\n",
       "mean      1090.278780\n",
       "std       2320.004938\n",
       "min          0.000000\n",
       "25%         38.000000\n",
       "50%        278.000000\n",
       "75%       1111.000000\n",
       "max      43199.000000\n",
       "Name: ENTRIESn_hourly, dtype: float64"
      ]
     },
     "execution_count": 6,
     "metadata": {},
     "output_type": "execute_result"
    }
   ],
   "source": [
    "with_rain_df.describe()"
   ]
  },
  {
   "cell_type": "code",
   "execution_count": 7,
   "metadata": {
    "collapsed": false
   },
   "outputs": [
    {
     "data": {
      "text/plain": [
       "count    44104.000000\n",
       "mean      1105.446377\n",
       "std       2370.527674\n",
       "min          0.000000\n",
       "25%         41.000000\n",
       "50%        282.000000\n",
       "75%       1103.250000\n",
       "max      51839.000000\n",
       "Name: ENTRIESn_hourly, dtype: float64"
      ]
     },
     "execution_count": 7,
     "metadata": {},
     "output_type": "execute_result"
    }
   ],
   "source": [
    "without_rain_df.describe()"
   ]
  },
  {
   "cell_type": "markdown",
   "metadata": {},
   "source": [
    "### Statistical test, tail and null hypothesis\n",
    "\n",
    "We will perform Mann-Whitney U test on the two samples. We will be performing a one-tail P value with .05 p-critical value, with the following hypothesis:\n",
    "\n",
    "**The Null hypothesis**:\n",
    "\n",
    "entries-raining-day = entries-non-raining-day\n",
    "\n",
    "**The alternative hypothesis**:\n",
    "\n",
    "entries-raining-day < entries-non-raining-day\n",
    "\n",
    "### Statistical test reasoning\n",
    "We are using this test because we don't want to make any asssumption on the underlying distribution but the shape of the distribution is the same.\n",
    "\n",
    "### Result\n",
    "Below we compute the result:"
   ]
  },
  {
   "cell_type": "code",
   "execution_count": 8,
   "metadata": {
    "collapsed": false
   },
   "outputs": [
    {
     "name": "stdout",
     "output_type": "stream",
     "text": [
      "U : 1924409167.0\n",
      "p : 0.0249999127935\n"
     ]
    }
   ],
   "source": [
    "import scipy.stats\n",
    "\n",
    "U, p = scipy.stats.mannwhitneyu(with_rain_df, without_rain_df)\n",
    "print \"U :\", U\n",
    "print \"p :\", p"
   ]
  },
  {
   "cell_type": "markdown",
   "metadata": {},
   "source": [
    "We can see that the p < .05."
   ]
  },
  {
   "cell_type": "markdown",
   "metadata": {},
   "source": [
    "### Interpretation\n",
    "\n",
    "We find a statistically significant different between number of entry when it is raining versus when it is not raining. This results are significant at the .05 level."
   ]
  },
  {
   "cell_type": "markdown",
   "metadata": {},
   "source": [
    "## Linear Regression"
   ]
  },
  {
   "cell_type": "markdown",
   "metadata": {},
   "source": [
    "Now let's build a model so we can make predictions.\n",
    "\n",
    "### Approach\n",
    "To compute the coefficients theta and produce prediction for ENTRIESn_hourly in the regression model I choose to \n",
    "use OLS using Statsmodels.\n",
    "\n",
    "We will implement 3 helper function here:\n",
    "\n",
    "* A function that does linear regression,\n",
    "* A function that calculate R^2. We need this to check on our result and,\n",
    "* A function that generate list of prediction value based on data and list of features"
   ]
  },
  {
   "cell_type": "code",
   "execution_count": 16,
   "metadata": {
    "collapsed": true
   },
   "outputs": [],
   "source": [
    "import statsmodels.api as sm\n",
    "\n",
    "def linear_regression(features, values):\n",
    "    \"\"\"\n",
    "    Perform linear regression given a data set with an arbitrary number of features.\n",
    "    \"\"\"    \n",
    "    features = sm.add_constant(features)\n",
    "    model = sm.OLS(values, features)\n",
    "    results = model.fit()\n",
    "    \n",
    "    intercept, params = results.params[0], results.params[1:]\n",
    "    return intercept, params\n",
    "\n",
    "def compute_r_squared(data, predictions):\n",
    "    '''\n",
    "    Compute r_squared given a data set and the predictions.\n",
    "    '''\n",
    "    \n",
    "    data_mean = np.mean(data)\n",
    "    ss_res = ((data - predictions)**2).sum()\n",
    "    ss_tot = ((data - data_mean)**2).sum()\n",
    "    r_squared = 1 - (ss_res/ss_tot)\n",
    "    \n",
    "    return r_squared\n",
    "\n",
    "def calculate_predictions(dataframe, features):\n",
    "    '''\n",
    "    Generate prediction given dataframe and features.\n",
    "    '''\n",
    "    \n",
    "    # Add UNIT to features using dummy variables\n",
    "    dummy_units = pandas.get_dummies(dataframe['UNIT'], prefix='unit')\n",
    "    features = features.join(dummy_units)\n",
    "\n",
    "    # Values\n",
    "    values = dataframe['ENTRIESn_hourly']\n",
    "\n",
    "    # Get the numpy arrays\n",
    "    features_array = features.values\n",
    "    values_array = values.values\n",
    "\n",
    "    # Perform linear regression\n",
    "    intercept, params = linear_regression(features_array, values_array)\n",
    "\n",
    "    predictions = intercept + np.dot(features_array, params)\n",
    "\n",
    "    return predictions"
   ]
  },
  {
   "cell_type": "markdown",
   "metadata": {},
   "source": [
    "### Features\n",
    "\n",
    "We will try to compute the prediction for several possible features.\n",
    "Please check the code below for the features.\n",
    "We aim to have R^2 score of 0.40 or better.\n",
    "\n",
    "The features of interest are listed below along with the reason:\n",
    " \n",
    "* rain : I think people will decide to ride the subway if it is raining\n",
    "* precipi : same with the above, it includes snow, drizzle, hail, etc.\n",
    "* meantempi : I think people will ride the subway more if it is cold\n",
    "* fog : I think people will ride the subway more if it is fogging, it is probably not fun to drive\n",
    "* meanwindspi: If it is windy, people who use bike or walk might opt to take subway\n",
    "* Hour : People tend to ride subway on certain hour, for example to get to or back from work. \n",
    "\n",
    "We will create a combination out of these feature, compute the predictions and get the R^2 value."
   ]
  },
  {
   "cell_type": "code",
   "execution_count": 35,
   "metadata": {
    "collapsed": false
   },
   "outputs": [
    {
     "name": "stdout",
     "output_type": "stream",
     "text": [
      "Features                                                     R^2       \n",
      "rain                                                         0.418351  \n",
      "meantempi                                                    0.418796  \n",
      "fog                                                          0.418461  \n",
      "meanwindspdi                                                 0.418975  \n",
      "precipi                                                      0.418413  \n",
      "Hour                                                         0.457549  \n",
      "rain, meantempi                                              0.418796  \n",
      "rain, fog                                                    0.418453  \n",
      "rain, meanwindspdi                                           0.418982  \n",
      "rain, precipi                                                0.418426  \n",
      "rain, Hour                                                   0.457561  \n",
      "meantempi, fog                                               0.418964  \n",
      "meantempi, meanwindspdi                                      0.419152  \n",
      "meantempi, precipi                                           0.418823  \n",
      "meantempi, Hour                                              0.458001  \n",
      "fog, meanwindspdi                                            0.419142  \n",
      "fog, precipi                                                 0.418477  \n",
      "fog, Hour                                                    0.457671  \n",
      "meanwindspdi, precipi                                        0.418996  \n",
      "meanwindspdi, Hour                                           0.458202  \n",
      "precipi, Hour                                                0.457638  \n",
      "rain, meantempi, fog                                         0.419008  \n",
      "rain, meantempi, meanwindspdi                                0.419152  \n",
      "rain, meantempi, precipi                                     0.418834  \n",
      "rain, meantempi, Hour                                        0.458001  \n",
      "rain, fog, meanwindspdi                                      0.419172  \n",
      "rain, fog, precipi                                           0.418482  \n",
      "rain, fog, Hour                                              0.457673  \n",
      "rain, meanwindspdi, precipi                                  0.418996  \n",
      "rain, meanwindspdi, Hour                                     0.458206  \n",
      "rain, precipi, Hour                                          0.457642  \n",
      "meantempi, fog, meanwindspdi                                 0.419344  \n",
      "meantempi, fog, precipi                                      0.418967  \n",
      "meantempi, fog, Hour                                         0.458170  \n",
      "meantempi, meanwindspdi, precipi                             0.419156  \n",
      "meantempi, meanwindspdi, Hour                                0.458367  \n",
      "meantempi, precipi, Hour                                     0.458033  \n",
      "fog, meanwindspdi, precipi                                   0.419165  \n",
      "fog, meanwindspdi, Hour                                      0.458372  \n",
      "fog, precipi, Hour                                           0.457692  \n",
      "meanwindspdi, precipi, Hour                                  0.458218  \n",
      "rain, meantempi, fog, meanwindspdi                           0.419398  \n",
      "rain, meantempi, fog, precipi                                0.419009  \n",
      "rain, meantempi, fog, Hour                                   0.458212  \n",
      "rain, meantempi, meanwindspdi, precipi                       0.419158  \n",
      "rain, meantempi, meanwindspdi, Hour                          0.458367  \n",
      "rain, meantempi, precipi, Hour                               0.458044  \n",
      "rain, fog, meanwindspdi, precipi                             0.419175  \n",
      "rain, fog, meanwindspdi, Hour                                0.458392  \n",
      "rain, fog, precipi, Hour                                     0.457708  \n",
      "rain, meanwindspdi, precipi, Hour                            0.458218  \n",
      "meantempi, fog, meanwindspdi, precipi                        0.419383  \n",
      "meantempi, fog, meanwindspdi, Hour                           0.458561  \n",
      "meantempi, fog, precipi, Hour                                0.458172  \n",
      "meantempi, meanwindspdi, precipi, Hour                       0.458373  \n",
      "fog, meanwindspdi, precipi, Hour                             0.458383  \n",
      "rain, meantempi, fog, meanwindspdi, precipi                  0.419410  \n",
      "rain, meantempi, fog, meanwindspdi, Hour                     0.458612  \n",
      "rain, meantempi, fog, precipi, Hour                          0.458214  \n",
      "rain, meantempi, meanwindspdi, precipi, Hour                 0.458376  \n",
      "rain, fog, meanwindspdi, precipi, Hour                       0.458394  \n",
      "meantempi, fog, meanwindspdi, precipi, Hour                  0.458595  \n",
      "rain, meantempi, fog, meanwindspdi, precipi, Hour            0.458621  \n",
      "The highest score : 0.458621326664\n",
      "Feature variables for the highest score: rain, meantempi, fog, meanwindspdi, precipi, Hour\n"
     ]
    }
   ],
   "source": [
    "from itertools import combinations\n",
    "\n",
    "# Build our features list combination\n",
    "feature_of_interest = ['rain', 'meantempi', 'fog', 'meanwindspdi', 'precipi', 'Hour']\n",
    "features_list = []\n",
    "for count in range(1, len(feature_of_interest) + 1):\n",
    "    for item in combinations(feature_of_interest, count):\n",
    "        features_list.append(list(item))\n",
    "\n",
    "best_score = {'score': 0}\n",
    "for features in features_list:\n",
    "    predictions = calculate_predictions(df, df[features])\n",
    "    r2_score = compute_r_squared(df['ENTRIESn_hourly'], predictions)\n",
    "    feature_name = ', '.join(features)\n",
    "\n",
    "    # Save the best score\n",
    "    if r2_score > best_score['score']:\n",
    "        best_score['score'] = r2_score\n",
    "        best_score['feature_variables'] =  feature_name\n",
    "        best_score['predictions_values'] =  predictions\n",
    "\n",
    "print \"The highest score :\", best_score['score']\n",
    "print \"Feature variables for the highest score:\", best_score['feature_variables']"
   ]
  },
  {
   "cell_type": "markdown",
   "metadata": {},
   "source": [
    "Let's try to make a histogram of the residuals\n",
    "(that is, the difference between the original hourly entry data and the predicted values)."
   ]
  },
  {
   "cell_type": "code",
   "execution_count": 36,
   "metadata": {
    "collapsed": false
   },
   "outputs": [
    {
     "data": {
      "text/plain": [
       "<matplotlib.axes._subplots.AxesSubplot at 0x1166016d0>"
      ]
     },
     "execution_count": 36,
     "metadata": {},
     "output_type": "execute_result"
    },
    {
     "data": {
      "image/png": "[encoded data removed]",
      "text/plain": [
       "<matplotlib.figure.Figure at 0x116601810>"
      ]
     },
     "metadata": {},
     "output_type": "display_data"
    }
   ],
   "source": [
    "plt.figure()\n",
    "(df['ENTRIESn_hourly'] - best_score['predictions_values']).hist(bins=50)"
   ]
  },
  {
   "cell_type": "markdown",
   "metadata": {},
   "source": [
    "We see that the plot of residuals approximate normal distribution.\n",
    "This is what we expected since residuals is a form of error,\n",
    "so the same general assumptions apply to the group of residuals that we typically use for errors in general: we expects them to be (roughly) normal and (approximately) independently distributed with a mean of 0 and some constant variance."
   ]
  },
  {
   "cell_type": "markdown",
   "metadata": {
    "collapsed": true
   },
   "source": [
    "## Visualization"
   ]
  },
  {
   "cell_type": "markdown",
   "metadata": {},
   "source": [
    "## Conclusions"
   ]
  },
  {
   "cell_type": "code",
   "execution_count": null,
   "metadata": {
    "collapsed": true
   },
   "outputs": [],
   "source": []
  }
 ],
 "metadata": {
  "kernelspec": {
   "display_name": "Python 2",
   "language": "python",
   "name": "python2"
  },
  "language_info": {
   "codemirror_mode": {
    "name": "ipython",
    "version": 2
   },
   "file_extension": ".py",
   "mimetype": "text/x-python",
   "name": "python",
   "nbconvert_exporter": "python",
   "pygments_lexer": "ipython2",
   "version": "2.7.9"
  }
 },
 "nbformat": 4,
 "nbformat_minor": 0
}
